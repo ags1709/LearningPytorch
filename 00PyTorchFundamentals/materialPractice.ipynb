{
 "cells": [
  {
   "cell_type": "code",
   "execution_count": 2,
   "metadata": {},
   "outputs": [],
   "source": [
    "import torch"
   ]
  },
  {
   "cell_type": "code",
   "execution_count": 3,
   "metadata": {},
   "outputs": [
    {
     "name": "stdout",
     "output_type": "stream",
     "text": [
      "7\n"
     ]
    }
   ],
   "source": [
    "# Scalars\n",
    "scalar = torch.tensor(7)\n",
    "print(scalar.item())"
   ]
  },
  {
   "cell_type": "code",
   "execution_count": 4,
   "metadata": {},
   "outputs": [
    {
     "name": "stdout",
     "output_type": "stream",
     "text": [
      "tensor([7, 9])\n",
      "1\n",
      "torch.Size([2])\n"
     ]
    }
   ],
   "source": [
    "# Vectors\n",
    "vector = torch.tensor([7,9])\n",
    "\n",
    "print(vector)\n",
    "print(vector.ndim)\n",
    "print(vector.shape)"
   ]
  },
  {
   "cell_type": "code",
   "execution_count": 5,
   "metadata": {},
   "outputs": [
    {
     "name": "stdout",
     "output_type": "stream",
     "text": [
      "tensor([[1, 2],\n",
      "        [3, 4]])\n",
      "2\n",
      "torch.Size([2, 2])\n"
     ]
    }
   ],
   "source": [
    "# Matrices\n",
    "matrix = torch.tensor([[1,2], [3,4]])\n",
    "\n",
    "print(matrix)\n",
    "print(matrix.ndim)\n",
    "print(matrix.shape)"
   ]
  },
  {
   "cell_type": "code",
   "execution_count": 6,
   "metadata": {},
   "outputs": [
    {
     "name": "stdout",
     "output_type": "stream",
     "text": [
      "tensor([[[ 1,  2,  3],\n",
      "         [ 4,  5,  6],\n",
      "         [ 7,  8,  9]],\n",
      "\n",
      "        [[10, 11, 12],\n",
      "         [13, 14, 15],\n",
      "         [16, 17, 18]]])\n",
      "3\n",
      "torch.Size([2, 3, 3])\n"
     ]
    }
   ],
   "source": [
    "# Tensor\n",
    "tensor = torch.tensor([[[1,2,3], [4,5,6], [7,8,9]], [[10, 11, 12], [13, 14, 15], [16, 17, 18]]])\n",
    "\n",
    "print(tensor)\n",
    "print(tensor.ndim)\n",
    "print(tensor.shape)"
   ]
  },
  {
   "cell_type": "code",
   "execution_count": 7,
   "metadata": {},
   "outputs": [
    {
     "name": "stdout",
     "output_type": "stream",
     "text": [
      "3 torch.Size([224, 224, 3])\n"
     ]
    }
   ],
   "source": [
    "# Tensors with random numbers\n",
    "\n",
    "randomTensor = torch.rand(size=(224,224,3))\n",
    "print(randomTensor.ndim, randomTensor.shape)"
   ]
  },
  {
   "cell_type": "code",
   "execution_count": 8,
   "metadata": {},
   "outputs": [
    {
     "name": "stdout",
     "output_type": "stream",
     "text": [
      "tensor([0, 1, 2, 3, 4, 5, 6, 7, 8, 9])\n"
     ]
    }
   ],
   "source": [
    "# Range tensors\n",
    "\n",
    "zero_to_ten = torch.arange(start=0, end=10, step=1)\n",
    "\n",
    "print(zero_to_ten)"
   ]
  },
  {
   "cell_type": "code",
   "execution_count": 9,
   "metadata": {},
   "outputs": [
    {
     "name": "stdout",
     "output_type": "stream",
     "text": [
      "tensor([1, 1, 1, 1, 1, 1, 1, 1, 1, 1])\n"
     ]
    }
   ],
   "source": [
    "# Copy shape of tensor\n",
    "sameShapeTensor = torch.ones_like((zero_to_ten))\n",
    "\n",
    "print(sameShapeTensor)"
   ]
  },
  {
   "cell_type": "code",
   "execution_count": 10,
   "metadata": {},
   "outputs": [
    {
     "name": "stdout",
     "output_type": "stream",
     "text": [
      "tensor([3.0000, 9.2000, 6.7000], dtype=torch.float64)\n"
     ]
    },
    {
     "data": {
      "text/plain": [
       "torch.float64"
      ]
     },
     "execution_count": 10,
     "metadata": {},
     "output_type": "execute_result"
    }
   ],
   "source": [
    "# Tensors with specific datatypes\n",
    "\n",
    "float32Tensor = torch.tensor([3, 9.2, 6.7], dtype=torch.float64, device=None, requires_grad=False)\n",
    "\n",
    "print(float32Tensor)\n",
    "float32Tensor.dtype"
   ]
  },
  {
   "cell_type": "code",
   "execution_count": 11,
   "metadata": {},
   "outputs": [
    {
     "name": "stdout",
     "output_type": "stream",
     "text": [
      "torch.Size([3])\n",
      "torch.float64\n",
      "cpu\n"
     ]
    }
   ],
   "source": [
    "# info from tensors\n",
    "\n",
    "print(float32Tensor.shape)\n",
    "print(float32Tensor.dtype)\n",
    "print(float32Tensor.device)\n"
   ]
  },
  {
   "cell_type": "code",
   "execution_count": 12,
   "metadata": {},
   "outputs": [
    {
     "name": "stdout",
     "output_type": "stream",
     "text": [
      "tensor(55)\n",
      "CPU times: total: 0 ns\n",
      "Wall time: 999 μs\n"
     ]
    }
   ],
   "source": [
    "%%time\n",
    "# Matrix multiplication\n",
    "tensor = torch.tensor([1,2,3,4,5])\n",
    "\n",
    "product = tensor @ tensor\n",
    "\n",
    "print(product)"
   ]
  },
  {
   "cell_type": "code",
   "execution_count": 13,
   "metadata": {},
   "outputs": [
    {
     "data": {
      "text/plain": [
       "tensor([[1, 4],\n",
       "        [2, 5],\n",
       "        [3, 6]])"
      ]
     },
     "execution_count": 13,
     "metadata": {},
     "output_type": "execute_result"
    }
   ],
   "source": [
    "# Transposing\n",
    "\n",
    "tensor1 = torch.tensor([[1,2,3], [4,5,6]])\n",
    "\n",
    "tensor1.T\n",
    "\n"
   ]
  },
  {
   "cell_type": "code",
   "execution_count": 14,
   "metadata": {},
   "outputs": [
    {
     "data": {
      "text/plain": [
       "tensor([0.9125, 1.0719, 2.0093, 0.6347, 1.5653], grad_fn=<ViewBackward0>)"
      ]
     },
     "execution_count": 14,
     "metadata": {},
     "output_type": "execute_result"
    }
   ],
   "source": [
    "#\n",
    "torch.manual_seed(42)\n",
    "tensor1 = torch.tensor([1,2,3], dtype=torch.float32)\n",
    "# weights = torch.tensor([])\n",
    "\n",
    "\n",
    "fflayer = torch.nn.Linear(in_features=3, out_features=5, bias=True)\n",
    "\n",
    "x = tensor1\n",
    "\n",
    "output = fflayer(x)\n",
    "\n",
    "output"
   ]
  },
  {
   "cell_type": "code",
   "execution_count": 20,
   "metadata": {},
   "outputs": [
    {
     "name": "stdout",
     "output_type": "stream",
     "text": [
      "tensor([1., 2., 3., 4., 5.])\n",
      "tensor([1, 2, 3, 4, 5])\n",
      "torch.float64\n"
     ]
    }
   ],
   "source": [
    "# Change dtype of data in tensor with changing tensor\n",
    "tensor = torch.tensor([1,2,3,4,5])\n",
    "\n",
    "print(tensor.type(torch.float32))\n",
    "\n",
    "print(tensor)\n",
    "\n",
    "# create identical tensor but with new dtype\n",
    "tensorNewDtype = tensor.type(torch.float64)\n",
    "print(tensorNewDtype.dtype)"
   ]
  },
  {
   "cell_type": "code",
   "execution_count": 16,
   "metadata": {},
   "outputs": [
    {
     "name": "stdout",
     "output_type": "stream",
     "text": [
      "Tensor: tensor([10, 20, 30, 40, 50, 60, 70, 80, 90])\n",
      "Index where max value occurs: 8\n",
      "Index where min value occurs: 0\n"
     ]
    }
   ],
   "source": [
    "# positional max/min\n",
    "\n",
    "tensor = torch.arange(10, 100, 10)\n",
    "print(f\"Tensor: {tensor}\")\n",
    "\n",
    "# Returns index of max and min values\n",
    "print(f\"Index where max value occurs: {tensor.argmax()}\")\n",
    "print(f\"Index where min value occurs: {tensor.argmin()}\")"
   ]
  },
  {
   "cell_type": "code",
   "execution_count": 59,
   "metadata": {},
   "outputs": [
    {
     "name": "stdout",
     "output_type": "stream",
     "text": [
      "torch.Size([3, 2])\n",
      "tensor([[1., 1.],\n",
      "        [1., 1.],\n",
      "        [1., 1.]]) \n",
      "\n",
      " tensor([[1., 1., 1.],\n",
      "        [1., 1., 1.]])\n",
      "\n",
      "tensor([[1., 1., 1., 1., 1., 1.]]) \n",
      "\n",
      " tensor([[1., 1.],\n",
      "        [1., 1.],\n",
      "        [1., 1.]])\n",
      "\n",
      "Stacked tensor:  tensor([[1., 1., 1., 1.],\n",
      "        [1., 1., 1., 1.],\n",
      "        [1., 1., 1., 1.]])\n",
      "2 torch.Size([3, 4])\n"
     ]
    }
   ],
   "source": [
    "# Reshaping, stacking, squeezing and unsqueezing\n",
    "\n",
    "tensor = torch.ones((3,2))\n",
    "print(tensor.shape)\n",
    "\n",
    "reshapedTensor = torch.reshape(tensor, (2,3))\n",
    "\n",
    "print(tensor, '\\n''\\n', reshapedTensor)\n",
    "print()\n",
    "# Views are a computationally inexpensive way to slice tensors without changing the original tensor\n",
    "view = tensor.view((1, 6))\n",
    "print(view, '\\n''\\n', tensor)\n",
    "\n",
    "\n",
    "print()\n",
    "# stackedTensor = torch.stack([tensor, tensor], dim=0)\n",
    "stackedTensor = torch.cat([tensor, tensor], dim=1)\n",
    "print(\"Stacked tensor: \", stackedTensor)\n",
    "print(stackedTensor.ndim, stackedTensor.shape)"
   ]
  },
  {
   "cell_type": "code",
   "execution_count": null,
   "metadata": {},
   "outputs": [],
   "source": []
  }
 ],
 "metadata": {
  "kernelspec": {
   "display_name": "Python 3",
   "language": "python",
   "name": "python3"
  },
  "language_info": {
   "codemirror_mode": {
    "name": "ipython",
    "version": 3
   },
   "file_extension": ".py",
   "mimetype": "text/x-python",
   "name": "python",
   "nbconvert_exporter": "python",
   "pygments_lexer": "ipython3",
   "version": "3.12.6"
  }
 },
 "nbformat": 4,
 "nbformat_minor": 2
}
